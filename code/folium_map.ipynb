{
  "cells": [
    {
      "cell_type": "raw",
      "metadata": {},
      "source": [
        "---\n",
        "title: Untitled\n",
        "---"
      ],
      "id": "8762f875"
    },
    {
      "cell_type": "code",
      "metadata": {},
      "source": [
        "# Import necessary packages\n",
        "import os \n",
        "import folium\n",
        "from folium import plugins\n",
        "import rioxarray as rxr\n",
        "import earthpy as et\n",
        "import earthpy.spatial as es\n",
        "\n",
        "# Import data from EarthPy\n",
        "data = et.data.get_data('colorado-flood')\n",
        "\n",
        "# Set working directory to earth-analytics\n",
        "os.chdir(os.path.join(et.io.HOME, 'earth-analytics', 'data'))"
      ],
      "id": "901f1293",
      "execution_count": null,
      "outputs": []
    },
    {
      "cell_type": "code",
      "metadata": {},
      "source": [
        "# Create a map using the Map() function and the coordinates for Boulder, CO\n",
        "m = folium.Map(location=[40.0150, -105.2705])\n",
        "\n",
        "# Display the map\n",
        "m"
      ],
      "id": "62cbee00",
      "execution_count": null,
      "outputs": []
    }
  ],
  "metadata": {
    "kernelspec": {
      "name": "python3",
      "language": "python",
      "display_name": "Python 3 (ipykernel)"
    }
  },
  "nbformat": 4,
  "nbformat_minor": 5
}